{
 "cells": [
  {
   "cell_type": "code",
   "execution_count": 1,
   "id": "90142f88-b93a-49af-86c7-2dc26c6a51ae",
   "metadata": {},
   "outputs": [],
   "source": [
    "import torch\n",
    "import numpy as np"
   ]
  },
  {
   "cell_type": "code",
   "execution_count": 14,
   "id": "fc4b5e85-fa74-4676-a037-5c709e41a73b",
   "metadata": {},
   "outputs": [
    {
     "name": "stdout",
     "output_type": "stream",
     "text": [
      "tensor([[0.3166, 0.1579, 0.8411, 0.9223],\n",
      "        [0.5220, 0.7898, 0.4168, 0.6027]])\n",
      "tensor([[ True, False, False,  True],\n",
      "        [False, False,  True,  True]])\n",
      "[tensor([0.3166, 0.9223]), tensor([0.4168, 0.6027])]\n"
     ]
    }
   ],
   "source": [
    "x = torch.rand(2, 4)\n",
    "print(x)\n",
    "mask = torch.tensor([[True, False, False, True], [False, False, True, True,]])\n",
    "print(mask)\n",
    "\n",
    "y = [x[i][mask[i]] for i in range(2)]\n",
    "print(y)"
   ]
  }
 ],
 "metadata": {
  "kernelspec": {
   "display_name": "Python 3 (ipykernel)",
   "language": "python",
   "name": "python3"
  },
  "language_info": {
   "codemirror_mode": {
    "name": "ipython",
    "version": 3
   },
   "file_extension": ".py",
   "mimetype": "text/x-python",
   "name": "python",
   "nbconvert_exporter": "python",
   "pygments_lexer": "ipython3",
   "version": "3.8.10"
  }
 },
 "nbformat": 4,
 "nbformat_minor": 5
}
