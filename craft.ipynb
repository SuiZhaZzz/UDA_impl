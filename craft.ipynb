{
 "cells": [
  {
   "cell_type": "code",
   "execution_count": 1,
   "id": "90142f88-b93a-49af-86c7-2dc26c6a51ae",
   "metadata": {},
   "outputs": [],
   "source": [
    "import torch\n",
    "import numpy as np"
   ]
  },
  {
   "cell_type": "code",
   "execution_count": 20,
   "id": "fc4b5e85-fa74-4676-a037-5c709e41a73b",
   "metadata": {},
   "outputs": [
    {
     "name": "stdout",
     "output_type": "stream",
     "text": [
      "tensor([[False, False, False],\n",
      "        [False,  True, False]])\n",
      "torch.Size([2, 3, 3, 2, 2])\n",
      "torch.Size([0, 3, 2, 2])\n"
     ]
    }
   ],
   "source": [
    "x = torch.randint(0, 2, (2,3))\n",
    "x = x > 0\n",
    "print(x)\n",
    "y = torch.randint(0,10,(2,3,3,2,2))\n",
    "print(y.shape)\n",
    "z = [y[i][x[i]] for i in range(2)]\n",
    "print(z[0].shape)"
   ]
  },
  {
   "cell_type": "code",
   "execution_count": null,
   "id": "943c4bb6-985a-4abd-a898-29625bdc95c5",
   "metadata": {},
   "outputs": [],
   "source": []
  }
 ],
 "metadata": {
  "kernelspec": {
   "display_name": "Python 3 (ipykernel)",
   "language": "python",
   "name": "python3"
  },
  "language_info": {
   "codemirror_mode": {
    "name": "ipython",
    "version": 3
   },
   "file_extension": ".py",
   "mimetype": "text/x-python",
   "name": "python",
   "nbconvert_exporter": "python",
   "pygments_lexer": "ipython3",
   "version": "3.8.10"
  }
 },
 "nbformat": 4,
 "nbformat_minor": 5
}
